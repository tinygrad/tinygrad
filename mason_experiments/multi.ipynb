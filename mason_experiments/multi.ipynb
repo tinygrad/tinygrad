{
 "cells": [
  {
   "cell_type": "code",
   "execution_count": 1,
   "metadata": {},
   "outputs": [],
   "source": [
    "from tinygrad.shape.shapetracker import ShapeTracker, merge_views, strides_for_shape\n",
    "from tinygrad.shape.view import View\n",
    "from tinygrad import Tensor\n",
    "from pprint import pprint\n",
    "from itertools import product\n",
    "from functools import cache"
   ]
  },
  {
   "cell_type": "code",
   "execution_count": 4,
   "metadata": {},
   "outputs": [
    {
     "name": "stdout",
     "output_type": "stream",
     "text": [
      "(2, 0, 1)\n"
     ]
    }
   ],
   "source": [
    "from multiviews import realize_view\n",
    "view1=View(shape=(4, 6, 2), strides=(36, 6, -4), offset=5, mask=None, contiguous=False)\n",
    "view2=View(shape=(4, 1, 2), strides=(12, 0, 1), offset=2, mask=None, contiguous=False)\n",
    "pprint(strides_for_shape((4,1,2)))"
   ]
  },
  {
   "cell_type": "code",
   "execution_count": 5,
   "metadata": {},
   "outputs": [
    {
     "name": "stdout",
     "output_type": "stream",
     "text": [
      "ShapeTracker(views=(View(shape=(2, 1920, 32, 32), strides=(1310720, 1024, 32, 1), offset=0, mask=((0, 2), (0, 1280), (0, 32), (0, 32)), contiguous=False),))\n",
      "hi\n",
      "ShapeTracker(views=(View(shape=(2, 1920, 32, 32), strides=(1310720, 1024, 32, 1), offset=0, mask=((0, 2), (0, 1280), (0, 32), (0, 32)), contiguous=False), View(shape=(2, 32, 240, 256), strides=(1966080, 61440, 256, 1), offset=0, mask=None, contiguous=True)))\n"
     ]
    }
   ],
   "source": [
    "st = ShapeTracker((View((2, 1920, 32, 32), (1310720, 1024, 32, 1), 0, ((0, 2), (0, 1280), (0, 32), (0, 32)), False),))\n",
    "print(st)\n",
    "st = st.reshape((2, 32, 240, 256))\n",
    "print(st)"
   ]
  },
  {
   "cell_type": "code",
   "execution_count": null,
   "metadata": {},
   "outputs": [],
   "source": []
  },
  {
   "cell_type": "code",
   "execution_count": null,
   "metadata": {},
   "outputs": [],
   "source": [
    "'Taiwan', \n",
    "'Stuxnet', \n",
    "'2024 election',  \n",
    "'Red Sea Supply Chain cybersecurity', \n",
    "'Israel-Palestine War', \n",
    "'Ukraine-Russia', \n",
    "'US vs. China',\n",
    "'Biden presidency',\n",
    "'Houthi Rebels',  \n",
    "'Trump indictment', \n",
    "'Election safety',  \n",
    "'Pegasus', \n",
    "'Genocide in Palestine' \n",
    "'Youtube', \n",
    "'Roe v. Wade', \n",
    "'IRS cybersecurity', \n",
    "'INVESTIGATE RBG: Investing the Assassination of RBG',\n",
    "'Cambridge Analytica and Brexit',\n",
    "'Tiktok and cybersecurity. Tencent',\n",
    "'AI Ethics Board',\n",
    "'How to jailbreak your own phone Hack your computer',\n",
    "'Statecraft. How to stage a coup',\n",
    "'The Anarchist Cookbook',\n",
    "'People s Park',\n",
    "'Jewelry Store Cybersecurity',\n",
    "'Cartel Smuggling',\n",
    "'Border Crisis',\n",
    "'Prison Industrial Complex',\n",
    "'Homelessness',\n",
    "'RJA',\n",
    "'United States Surveillance State',\n",
    "'Death & Taxes: The data gathering of dead people',\n",
    "'Where do we put the old people?',\n",
    "'Epstein Island',\n",
    "'Satellite Surveillance'\n",
    "'FBI Politics',\n",
    "'CIA Politics',\n",
    "'History of Google',\n",
    "'History of Microsoft',\n",
    "'History of Apple',\n",
    "'History of IBM',\n",
    "'History of Tumblr',\n",
    "'History of Eventbrite',\n",
    "'Botting of Ticketmaster and how to prevent that',\n",
    "'Botting streams',\n"
   ]
  },
  {
   "cell_type": "code",
   "execution_count": null,
   "metadata": {},
   "outputs": [],
   "source": []
  }
 ],
 "metadata": {
  "kernelspec": {
   "display_name": "ml",
   "language": "python",
   "name": "python3"
  },
  "language_info": {
   "codemirror_mode": {
    "name": "ipython",
    "version": 3
   },
   "file_extension": ".py",
   "mimetype": "text/x-python",
   "name": "python",
   "nbconvert_exporter": "python",
   "pygments_lexer": "ipython3",
   "version": "3.11.5"
  }
 },
 "nbformat": 4,
 "nbformat_minor": 2
}
